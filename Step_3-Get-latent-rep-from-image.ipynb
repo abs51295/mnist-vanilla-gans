{
 "cells": [
  {
   "cell_type": "markdown",
   "metadata": {},
   "source": [
    "## Getting latent representation from the image\n",
    "\n",
    "Here we are trying to solve the problem of getting the representation in the latent space from the generated image by the generator. Basically, move back from the original space `x` to the latent space `z`."
   ]
  },
  {
   "cell_type": "code",
   "execution_count": 1,
   "metadata": {},
   "outputs": [],
   "source": [
    "%matplotlib inline\n",
    "\n",
    "import numpy as np\n",
    "import torch\n",
    "import matplotlib.pyplot as plt"
   ]
  },
  {
   "cell_type": "markdown",
   "metadata": {},
   "source": [
    "## Define Generator"
   ]
  },
  {
   "cell_type": "code",
   "execution_count": 2,
   "metadata": {},
   "outputs": [],
   "source": [
    "import torch.nn as nn\n",
    "import torch.nn.functional as F\n",
    "\n",
    "class Generator(nn.Module):\n",
    "\n",
    "    def __init__(self, input_size, hidden_dim, output_size):\n",
    "        super(Generator, self).__init__()\n",
    "        \n",
    "        # define hidden linear layers\n",
    "        self.fc1 = nn.Linear(input_size, hidden_dim)\n",
    "        self.fc2 = nn.Linear(hidden_dim, hidden_dim*2)\n",
    "        self.fc3 = nn.Linear(hidden_dim*2, hidden_dim*4)\n",
    "        \n",
    "        # final fully-connected layer\n",
    "        self.fc4 = nn.Linear(hidden_dim*4, output_size)\n",
    "        \n",
    "        # dropout layer \n",
    "        self.dropout = nn.Dropout(0.3)\n",
    "\n",
    "    def forward(self, x):\n",
    "        # all hidden layers\n",
    "        x = F.leaky_relu(self.fc1(x), 0.2) # (input, negative_slope=0.2)\n",
    "        x = self.dropout(x)\n",
    "        x = F.leaky_relu(self.fc2(x), 0.2)\n",
    "        x = self.dropout(x)\n",
    "        x = F.leaky_relu(self.fc3(x), 0.2)\n",
    "        x = self.dropout(x)\n",
    "        \n",
    "        # final layer with tanh applied. We normalize the images between -1 and 1 using tanh.\n",
    "        out = F.tanh(self.fc4(x))\n",
    "\n",
    "        return out"
   ]
  },
  {
   "cell_type": "code",
   "execution_count": 3,
   "metadata": {},
   "outputs": [],
   "source": [
    "# Generator hyperparams\n",
    "\n",
    "# Size of latent vector to give to generator\n",
    "z_size = 100\n",
    "# Size of discriminator output (generated image)\n",
    "g_output_size = 784 # 28*28\n",
    "# Size of first hidden layer in the generator\n",
    "g_hidden_size = 32"
   ]
  },
  {
   "cell_type": "markdown",
   "metadata": {},
   "source": [
    "## Load the saved Generator model"
   ]
  },
  {
   "cell_type": "code",
   "execution_count": 4,
   "metadata": {},
   "outputs": [],
   "source": [
    "G = Generator(z_size, g_hidden_size, g_output_size)"
   ]
  },
  {
   "cell_type": "code",
   "execution_count": 5,
   "metadata": {},
   "outputs": [
    {
     "data": {
      "text/plain": [
       "<All keys matched successfully>"
      ]
     },
     "execution_count": 5,
     "metadata": {},
     "output_type": "execute_result"
    }
   ],
   "source": [
    "G.load_state_dict(torch.load('generator.pth'))"
   ]
  },
  {
   "cell_type": "code",
   "execution_count": 6,
   "metadata": {},
   "outputs": [
    {
     "data": {
      "text/plain": [
       "Generator(\n",
       "  (fc1): Linear(in_features=100, out_features=32, bias=True)\n",
       "  (fc2): Linear(in_features=32, out_features=64, bias=True)\n",
       "  (fc3): Linear(in_features=64, out_features=128, bias=True)\n",
       "  (fc4): Linear(in_features=128, out_features=784, bias=True)\n",
       "  (dropout): Dropout(p=0.3, inplace=False)\n",
       ")"
      ]
     },
     "execution_count": 6,
     "metadata": {},
     "output_type": "execute_result"
    }
   ],
   "source": [
    "G.eval()"
   ]
  },
  {
   "cell_type": "markdown",
   "metadata": {},
   "source": [
    "## Stochastic clipping technique\n",
    "\n",
    "We will now use something called as stochastic clipping to get the latent space representation for `x` . Note that the latent space representation obtained via this method should be close to `rand_z` (the original latent space vector from which x was derived). The technique works in the following manner:\n",
    "\n",
    "1. We initialize a random latent vector `rand_z_approx`.\n",
    "2. For every iteration we do the following (number of iterations is a hyperparameter):\n",
    "    > * We get the image representation `x_approx` for `rand_z_approx` while passing through `G`.\n",
    "  * We calculate the MSE loss between `x_approx` and `x`\n",
    "  * We backprop on the MSE loss to the `rand_z_approx` via Adam optimizer\n",
    "  * We reassign the components that are too large (>1) and too small (<1) uniformly at random in `rand_z_approx`. This particular step is referred to as **stochastic clipping**.\n",
    "3. `rand_z_approx` is the latent factor representation for `x` achieved by this method."
   ]
  },
  {
   "cell_type": "code",
   "execution_count": 7,
   "metadata": {},
   "outputs": [],
   "source": [
    "# Let's first generate a random latent vector.\n",
    "rand_z = torch.from_numpy(np.random.uniform(-1, 1, size=(1, z_size))).float()"
   ]
  },
  {
   "cell_type": "code",
   "execution_count": 8,
   "metadata": {},
   "outputs": [
    {
     "name": "stderr",
     "output_type": "stream",
     "text": [
      "c:\\python37\\lib\\site-packages\\torch\\nn\\functional.py:1339: UserWarning: nn.functional.tanh is deprecated. Use torch.tanh instead.\n",
      "  warnings.warn(\"nn.functional.tanh is deprecated. Use torch.tanh instead.\")\n"
     ]
    }
   ],
   "source": [
    "# Get the generator image for the random latent vector. \n",
    "x = G(rand_z)"
   ]
  },
  {
   "cell_type": "code",
   "execution_count": 9,
   "metadata": {},
   "outputs": [
    {
     "data": {
      "text/plain": [
       "torch.Size([1, 784])"
      ]
     },
     "execution_count": 9,
     "metadata": {},
     "output_type": "execute_result"
    }
   ],
   "source": [
    "x.shape"
   ]
  },
  {
   "cell_type": "code",
   "execution_count": 15,
   "metadata": {},
   "outputs": [
    {
     "name": "stderr",
     "output_type": "stream",
     "text": [
      "c:\\python37\\lib\\site-packages\\torch\\tensor.py:293: UserWarning: non-inplace resize is deprecated\n",
      "  warnings.warn(\"non-inplace resize is deprecated\")\n"
     ]
    },
    {
     "data": {
      "text/plain": [
       "<matplotlib.image.AxesImage at 0x1c053300128>"
      ]
     },
     "execution_count": 15,
     "metadata": {},
     "output_type": "execute_result"
    },
    {
     "data": {
      "image/png": "[encoded data removed]",
      "text/plain": [
       "<Figure size 432x288 with 1 Axes>"
      ]
     },
     "metadata": {
      "needs_background": "light"
     },
     "output_type": "display_data"
    }
   ],
   "source": [
    "# Detach the image and plot it\n",
    "x = x.detach()\n",
    "plt.imshow(x.resize(28,28), cmap='Greys_r')"
   ]
  },
  {
   "cell_type": "code",
   "execution_count": 16,
   "metadata": {},
   "outputs": [
    {
     "data": {
      "text/plain": [
       "torch.Size([1, 784])"
      ]
     },
     "execution_count": 16,
     "metadata": {},
     "output_type": "execute_result"
    }
   ],
   "source": [
    "x.shape"
   ]
  },
  {
   "cell_type": "code",
   "execution_count": 17,
   "metadata": {},
   "outputs": [],
   "source": [
    "# Define the hyperparametrs\n",
    "n_iter = 10000"
   ]
  },
  {
   "cell_type": "code",
   "execution_count": 18,
   "metadata": {},
   "outputs": [],
   "source": [
    "# Define the loss function\n",
    "mse_loss = torch.nn.MSELoss()"
   ]
  },
  {
   "cell_type": "code",
   "execution_count": 19,
   "metadata": {},
   "outputs": [],
   "source": [
    "# Get an approximate latent vector\n",
    "rand_z_approx = torch.from_numpy(np.random.uniform(-1, 1, size=(1, z_size))).float()"
   ]
  },
  {
   "cell_type": "code",
   "execution_count": 20,
   "metadata": {},
   "outputs": [],
   "source": [
    "# Make sure that gradient is computed\n",
    "rand_z_approx.requires_grad = True"
   ]
  },
  {
   "cell_type": "code",
   "execution_count": 21,
   "metadata": {},
   "outputs": [],
   "source": [
    "# Define the Adam optimizer for rand_z_approx. We will use the same lr as used during our training.\n",
    "import torch.optim as optim\n",
    "\n",
    "# Optimizers\n",
    "lr = 0.002\n",
    "z_optimizer = optim.Adam([rand_z_approx], lr=lr)"
   ]
  },
  {
   "cell_type": "code",
   "execution_count": 22,
   "metadata": {},
   "outputs": [
    {
     "name": "stderr",
     "output_type": "stream",
     "text": [
      "c:\\python37\\lib\\site-packages\\torch\\nn\\functional.py:1339: UserWarning: nn.functional.tanh is deprecated. Use torch.tanh instead.\n",
      "  warnings.warn(\"nn.functional.tanh is deprecated. Use torch.tanh instead.\")\n"
     ]
    },
    {
     "name": "stdout",
     "output_type": "stream",
     "text": [
      "Iteration: 0, MSE for X: 0.38810768723487854, MSE for z: 0.5513102412223816\n",
      "Iteration: 100, MSE for X: 0.35273778438568115, MSE for z: 0.5543090105056763\n",
      "Iteration: 200, MSE for X: 0.27675509452819824, MSE for z: 0.5702989101409912\n",
      "Iteration: 300, MSE for X: 0.26781776547431946, MSE for z: 0.5600307583808899\n",
      "Iteration: 400, MSE for X: 0.21078816056251526, MSE for z: 0.5211939811706543\n",
      "Iteration: 500, MSE for X: 0.029873551800847054, MSE for z: 0.45414674282073975\n",
      "Iteration: 600, MSE for X: 0.005336302798241377, MSE for z: 0.44416818022727966\n",
      "Iteration: 700, MSE for X: 0.003867138409987092, MSE for z: 0.4402656853199005\n",
      "Iteration: 800, MSE for X: 0.0030473682563751936, MSE for z: 0.4374006688594818\n",
      "Iteration: 900, MSE for X: 0.002520038280636072, MSE for z: 0.4351285696029663\n",
      "Iteration: 1000, MSE for X: 0.0017045863205567002, MSE for z: 0.43265941739082336\n",
      "Iteration: 1100, MSE for X: 0.001372121972963214, MSE for z: 0.43086352944374084\n",
      "Iteration: 1200, MSE for X: 0.0011769087286666036, MSE for z: 0.4294910430908203\n",
      "Iteration: 1300, MSE for X: 0.001020901370793581, MSE for z: 0.42821940779685974\n",
      "Iteration: 1400, MSE for X: 0.0008868401637300849, MSE for z: 0.42708536982536316\n",
      "Iteration: 1500, MSE for X: 0.0007843768107704818, MSE for z: 0.42589911818504333\n",
      "Iteration: 1600, MSE for X: 0.0007045760867185891, MSE for z: 0.42463430762290955\n",
      "Iteration: 1700, MSE for X: 0.0006340537802316248, MSE for z: 0.42339441180229187\n",
      "Iteration: 1800, MSE for X: 0.0005703416536562145, MSE for z: 0.4222014248371124\n",
      "Iteration: 1900, MSE for X: 0.0005137923290021718, MSE for z: 0.42107465863227844\n",
      "Iteration: 2000, MSE for X: 0.0004632530326489359, MSE for z: 0.4200141727924347\n",
      "Iteration: 2100, MSE for X: 0.00041749965748749673, MSE for z: 0.4190085828304291\n",
      "Iteration: 2200, MSE for X: 0.00037719140527769923, MSE for z: 0.41812828183174133\n",
      "Iteration: 2300, MSE for X: 0.0003433418460190296, MSE for z: 0.41731971502304077\n",
      "Iteration: 2400, MSE for X: 0.0003149272524751723, MSE for z: 0.41656044125556946\n",
      "Iteration: 2500, MSE for X: 0.000291290256427601, MSE for z: 0.4158723056316376\n",
      "Iteration: 2600, MSE for X: 0.00027088509523309767, MSE for z: 0.4152359068393707\n",
      "Iteration: 2700, MSE for X: 0.0002526526805013418, MSE for z: 0.41463443636894226\n",
      "Iteration: 2800, MSE for X: 0.00023586032330058515, MSE for z: 0.41404905915260315\n",
      "Iteration: 2900, MSE for X: 0.00022006285144016147, MSE for z: 0.4134703278541565\n",
      "Iteration: 3000, MSE for X: 0.00020569386833813041, MSE for z: 0.41294166445732117\n",
      "Iteration: 3100, MSE for X: 0.00019222116679884493, MSE for z: 0.41239938139915466\n",
      "Iteration: 3200, MSE for X: 0.00017949649190995842, MSE for z: 0.4118558168411255\n",
      "Iteration: 3300, MSE for X: 0.00016748698544688523, MSE for z: 0.41131654381752014\n",
      "Iteration: 3400, MSE for X: 0.0001562414545333013, MSE for z: 0.410783976316452\n",
      "Iteration: 3500, MSE for X: 0.0001455113524571061, MSE for z: 0.4102391302585602\n",
      "Iteration: 3600, MSE for X: 0.00013557402417063713, MSE for z: 0.4097025692462921\n",
      "Iteration: 3700, MSE for X: 0.00012627382238861173, MSE for z: 0.4091798961162567\n",
      "Iteration: 3800, MSE for X: 0.00011769981210818514, MSE for z: 0.40867188572883606\n",
      "Iteration: 3900, MSE for X: 0.00010982339881593361, MSE for z: 0.4081857204437256\n",
      "Iteration: 4000, MSE for X: 0.00010260589624522254, MSE for z: 0.40771231055259705\n",
      "Iteration: 4100, MSE for X: 9.601434430805966e-05, MSE for z: 0.4072529673576355\n",
      "Iteration: 4200, MSE for X: 9.001849684864283e-05, MSE for z: 0.406796932220459\n",
      "Iteration: 4300, MSE for X: 8.456070645479485e-05, MSE for z: 0.40633609890937805\n",
      "Iteration: 4400, MSE for X: 7.959386130096391e-05, MSE for z: 0.40586739778518677\n",
      "Iteration: 4500, MSE for X: 7.508305134251714e-05, MSE for z: 0.405375212430954\n",
      "Iteration: 4600, MSE for X: 7.096646004356444e-05, MSE for z: 0.404875248670578\n",
      "Iteration: 4700, MSE for X: 6.720429519191384e-05, MSE for z: 0.4043678343296051\n",
      "Iteration: 4800, MSE for X: 6.375920202117413e-05, MSE for z: 0.40385279059410095\n",
      "Iteration: 4900, MSE for X: 6.0596223192987964e-05, MSE for z: 0.403329998254776\n",
      "Iteration: 5000, MSE for X: 5.768653500126675e-05, MSE for z: 0.40279918909072876\n",
      "Iteration: 5100, MSE for X: 5.5115913710324094e-05, MSE for z: 0.40225133299827576\n",
      "Iteration: 5200, MSE for X: 5.277433228911832e-05, MSE for z: 0.4016824960708618\n",
      "Iteration: 5300, MSE for X: 5.061487536295317e-05, MSE for z: 0.4011019468307495\n",
      "Iteration: 5400, MSE for X: 4.860266562900506e-05, MSE for z: 0.4005092978477478\n",
      "Iteration: 5500, MSE for X: 4.671045462600887e-05, MSE for z: 0.39990583062171936\n",
      "Iteration: 5600, MSE for X: 4.491707659326494e-05, MSE for z: 0.3992918133735657\n",
      "Iteration: 5700, MSE for X: 4.320437801652588e-05, MSE for z: 0.39866745471954346\n",
      "Iteration: 5800, MSE for X: 4.1555784264346585e-05, MSE for z: 0.3980293571949005\n",
      "Iteration: 5900, MSE for X: 3.995930455857888e-05, MSE for z: 0.39737990498542786\n",
      "Iteration: 6000, MSE for X: 3.8408830732805654e-05, MSE for z: 0.39672091603279114\n",
      "Iteration: 6100, MSE for X: 3.689987715915777e-05, MSE for z: 0.3960537910461426\n",
      "Iteration: 6200, MSE for X: 3.54289986717049e-05, MSE for z: 0.3953796327114105\n",
      "Iteration: 6300, MSE for X: 3.399385968805291e-05, MSE for z: 0.3946992754936218\n",
      "Iteration: 6400, MSE for X: 3.2593354262644425e-05, MSE for z: 0.39401349425315857\n",
      "Iteration: 6500, MSE for X: 3.122578709735535e-05, MSE for z: 0.39332300424575806\n",
      "Iteration: 6600, MSE for X: 2.9890854420955293e-05, MSE for z: 0.39262837171554565\n",
      "Iteration: 6700, MSE for X: 2.8587977794813924e-05, MSE for z: 0.39193031191825867\n",
      "Iteration: 6800, MSE for X: 2.7317159037920646e-05, MSE for z: 0.3912294805049896\n",
      "Iteration: 6900, MSE for X: 2.6078363589476794e-05, MSE for z: 0.39052650332450867\n",
      "Iteration: 7000, MSE for X: 2.4874359951354563e-05, MSE for z: 0.3898228108882904\n",
      "Iteration: 7100, MSE for X: 2.3710710593149997e-05, MSE for z: 0.38911765813827515\n",
      "Iteration: 7200, MSE for X: 2.2585152692045085e-05, MSE for z: 0.3884095847606659\n",
      "Iteration: 7300, MSE for X: 2.1496653062058613e-05, MSE for z: 0.3876991868019104\n",
      "Iteration: 7400, MSE for X: 2.0444271285668947e-05, MSE for z: 0.38698723912239075\n",
      "Iteration: 7500, MSE for X: 1.942772178153973e-05, MSE for z: 0.38627418875694275\n",
      "Iteration: 7600, MSE for X: 1.845163023972418e-05, MSE for z: 0.3855625092983246\n",
      "Iteration: 7700, MSE for X: 1.750707633618731e-05, MSE for z: 0.3848574459552765\n",
      "Iteration: 7800, MSE for X: 1.659255758568179e-05, MSE for z: 0.3841562569141388\n",
      "Iteration: 7900, MSE for X: 1.570822496432811e-05, MSE for z: 0.3834584355354309\n",
      "Iteration: 8000, MSE for X: 1.485435768699972e-05, MSE for z: 0.38276419043540955\n",
      "Iteration: 8100, MSE for X: 1.4031395039637573e-05, MSE for z: 0.3820742666721344\n",
      "Iteration: 8200, MSE for X: 1.3239628060546238e-05, MSE for z: 0.381389319896698\n",
      "Iteration: 8300, MSE for X: 1.2479074030125048e-05, MSE for z: 0.3807101249694824\n",
      "Iteration: 8400, MSE for X: 1.1750164048862644e-05, MSE for z: 0.38003742694854736\n",
      "Iteration: 8500, MSE for X: 1.1052979971282184e-05, MSE for z: 0.3793720304965973\n",
      "Iteration: 8600, MSE for X: 1.038743994286051e-05, MSE for z: 0.3787146210670471\n",
      "Iteration: 8700, MSE for X: 9.753506674314849e-06, MSE for z: 0.37806591391563416\n",
      "Iteration: 8800, MSE for X: 9.151067388302181e-06, MSE for z: 0.3774266839027405\n",
      "Iteration: 8900, MSE for X: 8.57971917866962e-06, MSE for z: 0.37679755687713623\n",
      "Iteration: 9000, MSE for X: 8.039234671741724e-06, MSE for z: 0.37617918848991394\n",
      "Iteration: 9100, MSE for X: 7.529130016337149e-06, MSE for z: 0.375572144985199\n",
      "Iteration: 9200, MSE for X: 7.048737188597443e-06, MSE for z: 0.3749769330024719\n",
      "Iteration: 9300, MSE for X: 6.597628726012772e-06, MSE for z: 0.374394029378891\n",
      "Iteration: 9400, MSE for X: 6.174822829052573e-06, MSE for z: 0.37382379174232483\n",
      "Iteration: 9500, MSE for X: 5.779562798124971e-06, MSE for z: 0.3732665479183197\n",
      "Iteration: 9600, MSE for X: 5.4107708820083644e-06, MSE for z: 0.3727225959300995\n",
      "Iteration: 9700, MSE for X: 5.067400707048364e-06, MSE for z: 0.37219202518463135\n",
      "Iteration: 9800, MSE for X: 4.748189894598909e-06, MSE for z: 0.37167495489120483\n",
      "Iteration: 9900, MSE for X: 4.451871063793078e-06, MSE for z: 0.37117135524749756\n",
      "OK\n"
     ]
    }
   ],
   "source": [
    "# Let's perform stochastic optimization\n",
    "\n",
    "for i in range(n_iter):\n",
    "    # get the image in the original space from G\n",
    "    x_approx = G(rand_z_approx)\n",
    "    # calculate the mse loss between x_approx and x\n",
    "    mse_x_approx = mse_loss(x_approx, x)\n",
    "    mse_z_approx = mse_loss(rand_z_approx, rand_z)\n",
    "    # print the loss\n",
    "    if i%100 == 0:\n",
    "        print(\"Iteration: {}, MSE for X: {}, MSE for z: {}\".format(i, mse_x_approx, mse_z_approx))\n",
    "    \n",
    "    # backprop\n",
    "    z_optimizer.zero_grad()\n",
    "    if i == n_iter - 1:\n",
    "        print(\"OK\")\n",
    "        mse_x_approx.backward()\n",
    "    else:\n",
    "        mse_x_approx.backward(retain_graph=True)\n",
    "    z_optimizer.step()\n",
    "    \n",
    "    # stochastic clipping \n",
    "    rand_z_approx.data[rand_z_approx.data > 1] = np.random.uniform(-1, 1)\n",
    "    rand_z_approx.data[rand_z_approx.data < -1] = np.random.uniform(-1, 1)"
   ]
  },
  {
   "cell_type": "code",
   "execution_count": 23,
   "metadata": {},
   "outputs": [
    {
     "name": "stderr",
     "output_type": "stream",
     "text": [
      "c:\\python37\\lib\\site-packages\\torch\\tensor.py:293: UserWarning: non-inplace resize is deprecated\n",
      "  warnings.warn(\"non-inplace resize is deprecated\")\n"
     ]
    },
    {
     "data": {
      "text/plain": [
       "<matplotlib.image.AxesImage at 0x1c05349cf98>"
      ]
     },
     "execution_count": 23,
     "metadata": {},
     "output_type": "execute_result"
    },
    {
     "data": {
      "image/png": "[encoded data removed]",
      "text/plain": [
       "<Figure size 432x288 with 1 Axes>"
      ]
     },
     "metadata": {
      "needs_background": "light"
     },
     "output_type": "display_data"
    }
   ],
   "source": [
    "# Plot the approximate image\n",
    "x_approx = x_approx.detach()\n",
    "plt.imshow(x_approx.resize(28, 28), cmap='Greys_r')"
   ]
  },
  {
   "cell_type": "markdown",
   "metadata": {},
   "source": [
    "The approximate image looks very close to the original image `x`"
   ]
  },
  {
   "cell_type": "code",
   "execution_count": 24,
   "metadata": {},
   "outputs": [
    {
     "data": {
      "text/plain": [
       "tensor([[ 0.3954, -0.1374,  0.3144,  0.4177, -0.6196,  0.7407,  0.6244, -0.2805,\n",
       "         -0.9495,  0.7258, -0.0913, -0.3866, -0.7088,  0.4084, -0.6774, -0.1919,\n",
       "         -0.1691,  0.4447, -0.1672, -0.0996,  0.3768,  0.7603,  0.2312, -0.0441,\n",
       "          0.2570, -0.3462, -0.2492,  0.3277,  0.7547, -0.5177, -0.2348,  0.0833,\n",
       "         -0.4857, -0.2595,  0.1749, -0.5078, -0.1084,  0.4916,  0.4694, -0.1558,\n",
       "          0.0628,  0.6467,  0.2641,  0.5632,  0.0379, -0.8628,  0.0752, -0.2442,\n",
       "         -0.1218,  0.7578,  0.2251,  0.7483,  0.0636,  0.4201, -0.2700,  0.7753,\n",
       "         -0.2578,  0.2783, -0.0139,  0.1056,  0.9232, -0.3967,  0.6436,  0.8438,\n",
       "         -0.7652,  0.0821,  0.6674,  0.7456, -0.3214,  0.3515,  0.2495, -0.3160,\n",
       "         -0.2621, -0.8713,  0.0135,  0.5310,  0.7773, -0.4752,  0.0600, -0.0570,\n",
       "          0.4357, -0.1368, -0.4554,  0.3397,  0.1791, -0.4269, -0.0215,  0.5480,\n",
       "         -0.3654, -0.3175,  0.0503, -0.7545,  0.9057,  0.3915,  0.7531,  0.2570,\n",
       "         -0.4130, -0.4005,  0.6869, -0.6778]], requires_grad=True)"
      ]
     },
     "execution_count": 24,
     "metadata": {},
     "output_type": "execute_result"
    }
   ],
   "source": [
    "rand_z_approx"
   ]
  }
 ],
 "metadata": {
  "kernelspec": {
   "display_name": "Python 3",
   "language": "python",
   "name": "python3"
  },
  "language_info": {
   "codemirror_mode": {
    "name": "ipython",
    "version": 3
   },
   "file_extension": ".py",
   "mimetype": "text/x-python",
   "name": "python",
   "nbconvert_exporter": "python",
   "pygments_lexer": "ipython3",
   "version": "3.7.1"
  }
 },
 "nbformat": 4,
 "nbformat_minor": 4
}

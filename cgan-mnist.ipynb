{
 "cells": [
  {
   "cell_type": "markdown",
   "metadata": {},
   "source": [
    "## Conditional GANs\n",
    "\n",
    "Here we explore Conditional GANs, where we feed image labels into both generator and discriminator as additional input layers such that the labels and the image are combined in a joint hidden representation."
   ]
  },
  {
   "cell_type": "code",
   "execution_count": 1,
   "metadata": {},
   "outputs": [],
   "source": [
    "%matplotlib inline\n",
    "\n",
    "import numpy as np\n",
    "import torch\n",
    "import matplotlib.pyplot as plt"
   ]
  },
  {
   "cell_type": "code",
   "execution_count": 2,
   "metadata": {},
   "outputs": [],
   "source": [
    "from torchvision import datasets\n",
    "import torchvision.transforms as transforms"
   ]
  },
  {
   "cell_type": "code",
   "execution_count": 3,
   "metadata": {},
   "outputs": [],
   "source": [
    "# how many samples per batch to load\n",
    "batch_size = 64 \n",
    "\n",
    "# convert data to torch.FloatTensor\n",
    "transform = transforms.ToTensor()"
   ]
  },
  {
   "cell_type": "code",
   "execution_count": 4,
   "metadata": {},
   "outputs": [
    {
     "name": "stdout",
     "output_type": "stream",
     "text": [
      "Downloading http://yann.lecun.com/exdb/mnist/train-images-idx3-ubyte.gz to data\\MNIST\\raw\\train-images-idx3-ubyte.gz\n"
     ]
    },
    {
     "name": "stderr",
     "output_type": "stream",
     "text": [
      "100.1%"
     ]
    },
    {
     "name": "stdout",
     "output_type": "stream",
     "text": [
      "Extracting data\\MNIST\\raw\\train-images-idx3-ubyte.gz to data\\MNIST\\raw\n",
      "Downloading http://yann.lecun.com/exdb/mnist/train-labels-idx1-ubyte.gz to data\\MNIST\\raw\\train-labels-idx1-ubyte.gz\n"
     ]
    },
    {
     "name": "stderr",
     "output_type": "stream",
     "text": [
      "113.5%"
     ]
    },
    {
     "name": "stdout",
     "output_type": "stream",
     "text": [
      "Extracting data\\MNIST\\raw\\train-labels-idx1-ubyte.gz to data\\MNIST\\raw\n",
      "Downloading http://yann.lecun.com/exdb/mnist/t10k-images-idx3-ubyte.gz to data\\MNIST\\raw\\t10k-images-idx3-ubyte.gz\n"
     ]
    },
    {
     "name": "stderr",
     "output_type": "stream",
     "text": [
      "100.4%"
     ]
    },
    {
     "name": "stdout",
     "output_type": "stream",
     "text": [
      "Extracting data\\MNIST\\raw\\t10k-images-idx3-ubyte.gz to data\\MNIST\\raw\n",
      "Downloading http://yann.lecun.com/exdb/mnist/t10k-labels-idx1-ubyte.gz to data\\MNIST\\raw\\t10k-labels-idx1-ubyte.gz\n"
     ]
    },
    {
     "name": "stderr",
     "output_type": "stream",
     "text": [
      "180.4%"
     ]
    },
    {
     "name": "stdout",
     "output_type": "stream",
     "text": [
      "Extracting data\\MNIST\\raw\\t10k-labels-idx1-ubyte.gz to data\\MNIST\\raw\n",
      "Processing...\n",
      "Done!\n"
     ]
    }
   ],
   "source": [
    "train_data = datasets.MNIST(root='data', train=True,\n",
    "                                   download=True, transform=transform)"
   ]
  },
  {
   "cell_type": "code",
   "execution_count": 5,
   "metadata": {},
   "outputs": [],
   "source": [
    "# prepare data loader.\n",
    "train_loader = torch.utils.data.DataLoader(train_data, batch_size=batch_size, shuffle=True)"
   ]
  },
  {
   "cell_type": "code",
   "execution_count": 6,
   "metadata": {},
   "outputs": [
    {
     "data": {
      "text/plain": [
       "<matplotlib.image.AxesImage at 0x231b4e90e48>"
      ]
     },
     "execution_count": 6,
     "metadata": {},
     "output_type": "execute_result"
    },
    {
     "data": {
      "image/png": "[encoded data removed]",
      "text/plain": [
       "<Figure size 216x216 with 1 Axes>"
      ]
     },
     "metadata": {
      "needs_background": "light"
     },
     "output_type": "display_data"
    }
   ],
   "source": [
    "# obtain one batch of training images\n",
    "dataiter = iter(train_loader)\n",
    "images, labels = dataiter.next()\n",
    "images = images.numpy()\n",
    "\n",
    "# get one image from the batch\n",
    "img = np.squeeze(images[0])\n",
    "\n",
    "fig = plt.figure(figsize = (3,3)) \n",
    "ax = fig.add_subplot(111)\n",
    "ax.imshow(img, cmap='gray')"
   ]
  },
  {
   "cell_type": "code",
   "execution_count": 33,
   "metadata": {},
   "outputs": [
    {
     "data": {
      "text/plain": [
       "torch.int64"
      ]
     },
     "execution_count": 33,
     "metadata": {},
     "output_type": "execute_result"
    }
   ],
   "source": [
    "labels.dtype"
   ]
  },
  {
   "cell_type": "markdown",
   "metadata": {},
   "source": [
    "## Define Discriminator and Generator\n",
    " \n",
    "Here we define the discriminator and generator of conditional GANs. As said earlier, this time we will also add labels to the input of both generator and discriminator."
   ]
  },
  {
   "cell_type": "code",
   "execution_count": 23,
   "metadata": {},
   "outputs": [],
   "source": [
    "import torch.nn as nn\n",
    "import torch.nn.functional as F\n",
    "\n",
    "class Discriminator(nn.Module):\n",
    "\n",
    "    def __init__(self, label_size, input_size, hidden_dim, output_size):\n",
    "        super(Discriminator, self).__init__()\n",
    "        \n",
    "        # define embeddings layer for labels\n",
    "        self.embed = nn.Embedding(label_size, label_size)\n",
    "        \n",
    "        # define hidden linear layers\n",
    "        self.fc1 = nn.Linear(input_size + label_size, hidden_dim*4)\n",
    "        self.fc2 = nn.Linear(hidden_dim*4, hidden_dim*2)\n",
    "        self.fc3 = nn.Linear(hidden_dim*2, hidden_dim)\n",
    "        \n",
    "        # final fully-connected layer\n",
    "        self.fc4 = nn.Linear(hidden_dim, output_size)\n",
    "        \n",
    "        # dropout layer \n",
    "        self.dropout = nn.Dropout(0.3)\n",
    "        \n",
    "        \n",
    "    def forward(self, image, labels):\n",
    "        # flatten image\n",
    "        image = image.view(-1, 28*28)\n",
    "        \n",
    "        # pass labels through embedding layer\n",
    "        labels = self.embed(labels)\n",
    "        \n",
    "        # concatenate image and labels\n",
    "        x = torch.cat((image, labels), 1)\n",
    "        \n",
    "        # all hidden layers\n",
    "        # We use LeakyRelu here, because GANs don't work well with sparse gradients like ReLu.\n",
    "        x = F.leaky_relu(self.fc1(x), 0.2) # (input, negative_slope=0.2)\n",
    "        \n",
    "        # We use dropout as a form of adding noise to the input.\n",
    "        x = self.dropout(x)\n",
    "        x = F.leaky_relu(self.fc2(x), 0.2)\n",
    "        x = self.dropout(x)\n",
    "        x = F.leaky_relu(self.fc3(x), 0.2)\n",
    "        x = self.dropout(x)\n",
    "        \n",
    "        # final layer. we don't use sigmoid here because we use BCEWithLogits loss function.\n",
    "        out = self.fc4(x)\n",
    "\n",
    "        return out"
   ]
  },
  {
   "cell_type": "code",
   "execution_count": 24,
   "metadata": {},
   "outputs": [],
   "source": [
    "class Generator(nn.Module):\n",
    "\n",
    "    def __init__(self, label_size, input_size, hidden_dim, output_size):\n",
    "        super(Generator, self).__init__()\n",
    "        \n",
    "        # define embeddings layer for labels\n",
    "        self.embed = nn.Embedding(label_size, label_size)\n",
    "        \n",
    "        # define hidden linear layers\n",
    "        self.fc1 = nn.Linear(input_size + label_size, hidden_dim)\n",
    "        self.fc2 = nn.Linear(hidden_dim, hidden_dim*2)\n",
    "        self.fc3 = nn.Linear(hidden_dim*2, hidden_dim*4)\n",
    "        \n",
    "        # final fully-connected layer\n",
    "        self.fc4 = nn.Linear(hidden_dim*4, output_size)\n",
    "        \n",
    "        # dropout layer \n",
    "        self.dropout = nn.Dropout(0.3)\n",
    "\n",
    "    def forward(self, image, labels):\n",
    "        # pass labels through embeddings\n",
    "        labels = self.embed(labels)\n",
    "        \n",
    "        #concatentate image and labels\n",
    "        x = torch.cat((image, labels), 1)\n",
    "        \n",
    "        \n",
    "        # all hidden layers\n",
    "        x = F.leaky_relu(self.fc1(x), 0.2) # (input, negative_slope=0.2)\n",
    "        x = self.dropout(x)\n",
    "        x = F.leaky_relu(self.fc2(x), 0.2)\n",
    "        x = self.dropout(x)\n",
    "        x = F.leaky_relu(self.fc3(x), 0.2)\n",
    "        x = self.dropout(x)\n",
    "        \n",
    "        # final layer with tanh applied. We normalize the images between -1 and 1 using tanh.\n",
    "        out = F.tanh(self.fc4(x))\n",
    "\n",
    "        return out"
   ]
  },
  {
   "cell_type": "markdown",
   "metadata": {},
   "source": [
    "## Model Hyperparameters"
   ]
  },
  {
   "cell_type": "code",
   "execution_count": 25,
   "metadata": {},
   "outputs": [],
   "source": [
    "# Discriminator hyperparams\n",
    "\n",
    "# Size of input image to discriminator (28*28)\n",
    "input_size = 784\n",
    "# Size of discriminator output (real or fake)\n",
    "d_output_size = 1\n",
    "# Size of last hidden layer in the discriminator\n",
    "d_hidden_size = 32\n",
    "\n",
    "# Generator hyperparams\n",
    "\n",
    "# Size of latent vector to give to generator\n",
    "z_size = 100\n",
    "# Size of discriminator output (generated image)\n",
    "g_output_size = 784 # 28*28\n",
    "# Size of first hidden layer in the generator\n",
    "g_hidden_size = 32\n",
    "\n",
    "# label size\n",
    "label_size = 10 # 0-9"
   ]
  },
  {
   "cell_type": "markdown",
   "metadata": {},
   "source": [
    "## Build complete network"
   ]
  },
  {
   "cell_type": "code",
   "execution_count": 26,
   "metadata": {},
   "outputs": [
    {
     "name": "stdout",
     "output_type": "stream",
     "text": [
      "Discriminator(\n",
      "  (embed): Embedding(10, 10)\n",
      "  (fc1): Linear(in_features=794, out_features=128, bias=True)\n",
      "  (fc2): Linear(in_features=128, out_features=64, bias=True)\n",
      "  (fc3): Linear(in_features=64, out_features=32, bias=True)\n",
      "  (fc4): Linear(in_features=32, out_features=1, bias=True)\n",
      "  (dropout): Dropout(p=0.3, inplace=False)\n",
      ")\n",
      "\n",
      "Generator(\n",
      "  (embed): Embedding(10, 10)\n",
      "  (fc1): Linear(in_features=110, out_features=32, bias=True)\n",
      "  (fc2): Linear(in_features=32, out_features=64, bias=True)\n",
      "  (fc3): Linear(in_features=64, out_features=128, bias=True)\n",
      "  (fc4): Linear(in_features=128, out_features=784, bias=True)\n",
      "  (dropout): Dropout(p=0.3, inplace=False)\n",
      ")\n"
     ]
    }
   ],
   "source": [
    " # instantiate discriminator and generator\n",
    "D = Discriminator(label_size, input_size, d_hidden_size, d_output_size)\n",
    "G = Generator(label_size, z_size, g_hidden_size, g_output_size)\n",
    "\n",
    "# check that they are as you expect\n",
    "print(D)\n",
    "print()\n",
    "print(G)"
   ]
  },
  {
   "cell_type": "markdown",
   "metadata": {},
   "source": [
    "## Calculate Losses\n",
    "\n",
    "We define two types of losses:\n",
    "\n",
    "1. `real_loss` which calculates the loss on the real image dataset.\n",
    "2. `fake_loss` which calculates the loss on the fake images generated by the generator.\n",
    "\n",
    "#### Discriminator Loss\n",
    "\n",
    "For the real images, we want `D(real_images) = 1`. That is, we want the discriminator to classify the the real images with a label = 1, indicating that these are real. To help the discriminator generalize better, the labels are **reduced a bit from 1.0 to 0.9**. For this, we'll use the parameter `smooth`; if True, then we should smooth our labels.\n",
    "\n",
    "Similarly, for fake images we want `D(fake_images)=0`. Hence the total loss for the discriminator becomes ` d_real_loss + d_fake_loss`.\n",
    "\n",
    "#### Generator Loss\n",
    "\n",
    "The generator loss will look similar only with flipped labels. The generator's goal is to get `D(fake_images) = 1`. In this case, the labels are **flipped** to represent that the generator is trying to fool the discriminator into thinking that the images it generates (fakes) are real!\n",
    "\n",
    "#### Loss function\n",
    "\n",
    "We use `BCEWithLogitsLoss()` as our loss function, that combines a `Sigmoid layer` and the `BCELoss` in one single class. We will need to apply sigmoid to our discriminator output in order to get the output of the final layer between 0 and 1 (since our class labels are 0 for fake and 1 for real) and then calculate the loss. "
   ]
  },
  {
   "cell_type": "code",
   "execution_count": 28,
   "metadata": {},
   "outputs": [],
   "source": [
    "def real_loss(D_out, smooth=False):\n",
    "    batch_size = D_out.size(0)\n",
    "    # label smoothing\n",
    "    if smooth:\n",
    "        # smooth, real labels = 0.9\n",
    "        labels = torch.ones(batch_size)*0.9 \n",
    "    else:\n",
    "        labels = torch.ones(batch_size) # real labels = 1\n",
    "\n",
    "    criterion = nn.BCEWithLogitsLoss()\n",
    "    # calculate loss\n",
    "    loss = criterion(D_out.squeeze(), labels)\n",
    "    return loss\n",
    "\n",
    "def fake_loss(D_out):\n",
    "    batch_size = D_out.size(0)\n",
    "    labels = torch.zeros(batch_size) # fake labels = 0\n",
    "    criterion = nn.BCEWithLogitsLoss()\n",
    "    # calculate loss\n",
    "    loss = criterion(D_out.squeeze(), labels)\n",
    "    return loss"
   ]
  },
  {
   "cell_type": "markdown",
   "metadata": {},
   "source": [
    "## Training"
   ]
  },
  {
   "cell_type": "markdown",
   "metadata": {},
   "source": [
    "We defined Adam optimizers for discriminator and generator.\n",
    "\n",
    "Training will involve alternating between training the discriminator and the generator. We'll use our functions `real_loss` and `fake_loss` to help us calculate the discriminator losses in all of the following cases.\n",
    "\n",
    "### Discriminator training\n",
    "1. Compute the discriminator loss on real, training images + labels      \n",
    "2. Generate fake images and labels\n",
    "3. Compute the discriminator loss on fake, generated images + labels     \n",
    "4. Add up real and fake loss\n",
    "5. Perform backpropagation + an optimization step to update the discriminator's weights\n",
    "\n",
    "### Generator training\n",
    "1. Generate fake images and labels\n",
    "2. Compute the discriminator loss on fake images + labels, using **flipped** real labels (0 -> 1, not to be confused with generated labels)!\n",
    "3. Perform backpropagation + an optimization step to update the generator's weights\n",
    "4. We don't update discrminator weights during Generator training."
   ]
  },
  {
   "cell_type": "code",
   "execution_count": 30,
   "metadata": {},
   "outputs": [],
   "source": [
    "# Let's now define the optimizers\n",
    "import torch.optim as optim\n",
    "\n",
    "# Optimizers\n",
    "lr = 0.002\n",
    "\n",
    "# Create optimizers for the discriminator and generator\n",
    "d_optimizer = optim.Adam(D.parameters(), lr)\n",
    "g_optimizer = optim.Adam(G.parameters(), lr)"
   ]
  },
  {
   "cell_type": "code",
   "execution_count": 35,
   "metadata": {},
   "outputs": [
    {
     "name": "stderr",
     "output_type": "stream",
     "text": [
      "c:\\python37\\lib\\site-packages\\torch\\nn\\functional.py:1339: UserWarning: nn.functional.tanh is deprecated. Use torch.tanh instead.\n",
      "  warnings.warn(\"nn.functional.tanh is deprecated. Use torch.tanh instead.\")\n"
     ]
    },
    {
     "name": "stdout",
     "output_type": "stream",
     "text": [
      "Epoch [    1/  100] | d_loss: 0.9353 | g_loss: 3.7243\n",
      "Epoch [    1/  100] | d_loss: 1.1919 | g_loss: 1.1273\n",
      "Epoch [    1/  100] | d_loss: 1.2642 | g_loss: 1.3056\n",
      "Epoch [    2/  100] | d_loss: 1.4051 | g_loss: 0.8486\n",
      "Epoch [    2/  100] | d_loss: 1.1361 | g_loss: 1.1209\n",
      "Epoch [    2/  100] | d_loss: 0.9962 | g_loss: 2.4227\n",
      "Epoch [    3/  100] | d_loss: 1.1459 | g_loss: 1.2240\n",
      "Epoch [    3/  100] | d_loss: 1.2022 | g_loss: 1.9850\n",
      "Epoch [    3/  100] | d_loss: 1.2011 | g_loss: 0.9165\n",
      "Epoch [    4/  100] | d_loss: 1.3849 | g_loss: 1.1763\n",
      "Epoch [    4/  100] | d_loss: 1.2217 | g_loss: 1.6817\n",
      "Epoch [    4/  100] | d_loss: 1.2817 | g_loss: 1.1188\n",
      "Epoch [    5/  100] | d_loss: 1.0304 | g_loss: 1.5783\n",
      "Epoch [    5/  100] | d_loss: 1.2675 | g_loss: 2.4374\n",
      "Epoch [    5/  100] | d_loss: 1.0772 | g_loss: 2.4676\n",
      "Epoch [    6/  100] | d_loss: 1.1695 | g_loss: 1.4864\n",
      "Epoch [    6/  100] | d_loss: 1.0541 | g_loss: 1.3554\n",
      "Epoch [    6/  100] | d_loss: 1.2919 | g_loss: 0.9525\n",
      "Epoch [    7/  100] | d_loss: 1.2852 | g_loss: 1.0817\n",
      "Epoch [    7/  100] | d_loss: 1.1608 | g_loss: 1.6027\n",
      "Epoch [    7/  100] | d_loss: 1.3724 | g_loss: 0.9315\n",
      "Epoch [    8/  100] | d_loss: 1.1033 | g_loss: 1.2974\n",
      "Epoch [    8/  100] | d_loss: 1.0316 | g_loss: 1.7009\n",
      "Epoch [    8/  100] | d_loss: 1.1597 | g_loss: 2.0068\n",
      "Epoch [    9/  100] | d_loss: 1.3827 | g_loss: 1.8594\n",
      "Epoch [    9/  100] | d_loss: 1.1588 | g_loss: 1.2803\n",
      "Epoch [    9/  100] | d_loss: 1.3592 | g_loss: 1.6248\n",
      "Epoch [   10/  100] | d_loss: 1.1176 | g_loss: 1.7012\n",
      "Epoch [   10/  100] | d_loss: 1.2033 | g_loss: 1.2490\n",
      "Epoch [   10/  100] | d_loss: 1.3054 | g_loss: 1.2361\n",
      "Epoch [   11/  100] | d_loss: 1.2072 | g_loss: 1.3505\n",
      "Epoch [   11/  100] | d_loss: 1.2267 | g_loss: 1.0599\n",
      "Epoch [   11/  100] | d_loss: 1.2276 | g_loss: 1.1456\n",
      "Epoch [   12/  100] | d_loss: 1.1429 | g_loss: 1.4375\n",
      "Epoch [   12/  100] | d_loss: 1.1381 | g_loss: 1.3932\n",
      "Epoch [   12/  100] | d_loss: 1.1794 | g_loss: 1.0277\n",
      "Epoch [   13/  100] | d_loss: 1.2318 | g_loss: 1.2604\n",
      "Epoch [   13/  100] | d_loss: 1.2798 | g_loss: 1.1881\n",
      "Epoch [   13/  100] | d_loss: 1.2486 | g_loss: 1.2422\n",
      "Epoch [   14/  100] | d_loss: 1.3547 | g_loss: 1.1947\n",
      "Epoch [   14/  100] | d_loss: 1.3070 | g_loss: 1.1509\n",
      "Epoch [   14/  100] | d_loss: 1.1806 | g_loss: 0.8586\n",
      "Epoch [   15/  100] | d_loss: 1.2863 | g_loss: 1.3275\n",
      "Epoch [   15/  100] | d_loss: 1.2572 | g_loss: 0.9739\n",
      "Epoch [   15/  100] | d_loss: 1.2267 | g_loss: 1.1665\n",
      "Epoch [   16/  100] | d_loss: 1.2879 | g_loss: 1.1431\n",
      "Epoch [   16/  100] | d_loss: 1.1864 | g_loss: 1.0941\n",
      "Epoch [   16/  100] | d_loss: 1.2976 | g_loss: 0.9854\n",
      "Epoch [   17/  100] | d_loss: 1.2694 | g_loss: 1.0734\n",
      "Epoch [   17/  100] | d_loss: 1.3399 | g_loss: 1.0193\n",
      "Epoch [   17/  100] | d_loss: 1.2496 | g_loss: 1.2081\n",
      "Epoch [   18/  100] | d_loss: 1.2672 | g_loss: 1.2583\n",
      "Epoch [   18/  100] | d_loss: 1.2110 | g_loss: 1.0705\n",
      "Epoch [   18/  100] | d_loss: 1.1984 | g_loss: 1.3492\n",
      "Epoch [   19/  100] | d_loss: 1.1254 | g_loss: 1.3154\n",
      "Epoch [   19/  100] | d_loss: 1.3233 | g_loss: 0.9346\n",
      "Epoch [   19/  100] | d_loss: 1.2517 | g_loss: 1.0256\n",
      "Epoch [   20/  100] | d_loss: 1.2470 | g_loss: 1.0180\n",
      "Epoch [   20/  100] | d_loss: 1.3017 | g_loss: 0.9068\n",
      "Epoch [   20/  100] | d_loss: 1.3455 | g_loss: 1.2518\n",
      "Epoch [   21/  100] | d_loss: 1.2928 | g_loss: 1.1647\n",
      "Epoch [   21/  100] | d_loss: 1.3818 | g_loss: 1.1812\n",
      "Epoch [   21/  100] | d_loss: 1.3226 | g_loss: 1.0227\n",
      "Epoch [   22/  100] | d_loss: 1.2941 | g_loss: 0.9578\n",
      "Epoch [   22/  100] | d_loss: 1.2921 | g_loss: 0.9736\n",
      "Epoch [   22/  100] | d_loss: 1.3493 | g_loss: 0.9844\n",
      "Epoch [   23/  100] | d_loss: 1.3186 | g_loss: 1.3546\n",
      "Epoch [   23/  100] | d_loss: 1.2780 | g_loss: 1.0865\n",
      "Epoch [   23/  100] | d_loss: 1.1807 | g_loss: 1.3657\n",
      "Epoch [   24/  100] | d_loss: 1.1822 | g_loss: 1.0265\n",
      "Epoch [   24/  100] | d_loss: 1.3345 | g_loss: 0.8563\n",
      "Epoch [   24/  100] | d_loss: 1.2541 | g_loss: 0.8669\n",
      "Epoch [   25/  100] | d_loss: 1.2565 | g_loss: 0.9225\n",
      "Epoch [   25/  100] | d_loss: 1.2283 | g_loss: 1.0715\n",
      "Epoch [   25/  100] | d_loss: 1.2252 | g_loss: 1.1280\n",
      "Epoch [   26/  100] | d_loss: 1.3805 | g_loss: 0.9697\n",
      "Epoch [   26/  100] | d_loss: 1.2609 | g_loss: 0.9709\n",
      "Epoch [   26/  100] | d_loss: 1.3843 | g_loss: 0.9636\n",
      "Epoch [   27/  100] | d_loss: 1.2828 | g_loss: 1.0425\n",
      "Epoch [   27/  100] | d_loss: 1.2684 | g_loss: 0.9929\n",
      "Epoch [   27/  100] | d_loss: 1.2914 | g_loss: 0.8990\n",
      "Epoch [   28/  100] | d_loss: 1.2927 | g_loss: 0.9922\n",
      "Epoch [   28/  100] | d_loss: 1.2687 | g_loss: 0.9805\n",
      "Epoch [   28/  100] | d_loss: 1.3138 | g_loss: 0.9381\n",
      "Epoch [   29/  100] | d_loss: 1.2433 | g_loss: 1.0019\n",
      "Epoch [   29/  100] | d_loss: 1.3175 | g_loss: 0.9876\n",
      "Epoch [   29/  100] | d_loss: 1.2526 | g_loss: 1.0954\n",
      "Epoch [   30/  100] | d_loss: 1.2803 | g_loss: 0.8779\n",
      "Epoch [   30/  100] | d_loss: 1.2096 | g_loss: 1.1450\n",
      "Epoch [   30/  100] | d_loss: 1.2149 | g_loss: 1.2695\n",
      "Epoch [   31/  100] | d_loss: 1.2282 | g_loss: 0.8239\n",
      "Epoch [   31/  100] | d_loss: 1.2849 | g_loss: 0.9763\n",
      "Epoch [   31/  100] | d_loss: 1.2073 | g_loss: 1.0999\n",
      "Epoch [   32/  100] | d_loss: 1.2575 | g_loss: 1.0574\n",
      "Epoch [   32/  100] | d_loss: 1.3238 | g_loss: 0.8687\n",
      "Epoch [   32/  100] | d_loss: 1.2710 | g_loss: 1.1164\n",
      "Epoch [   33/  100] | d_loss: 1.3190 | g_loss: 0.8725\n",
      "Epoch [   33/  100] | d_loss: 1.2143 | g_loss: 1.1033\n",
      "Epoch [   33/  100] | d_loss: 1.3189 | g_loss: 1.1429\n",
      "Epoch [   34/  100] | d_loss: 1.2467 | g_loss: 1.0244\n",
      "Epoch [   34/  100] | d_loss: 1.1674 | g_loss: 1.1537\n",
      "Epoch [   34/  100] | d_loss: 1.3512 | g_loss: 1.1790\n",
      "Epoch [   35/  100] | d_loss: 1.3162 | g_loss: 1.0149\n",
      "Epoch [   35/  100] | d_loss: 1.3000 | g_loss: 0.9259\n",
      "Epoch [   35/  100] | d_loss: 1.3222 | g_loss: 0.9221\n",
      "Epoch [   36/  100] | d_loss: 1.3298 | g_loss: 1.1354\n",
      "Epoch [   36/  100] | d_loss: 1.2908 | g_loss: 1.3558\n",
      "Epoch [   36/  100] | d_loss: 1.2641 | g_loss: 1.0353\n",
      "Epoch [   37/  100] | d_loss: 1.3099 | g_loss: 1.2864\n",
      "Epoch [   37/  100] | d_loss: 1.2531 | g_loss: 1.0093\n",
      "Epoch [   37/  100] | d_loss: 1.2678 | g_loss: 0.9196\n",
      "Epoch [   38/  100] | d_loss: 1.3049 | g_loss: 1.0004\n",
      "Epoch [   38/  100] | d_loss: 1.2905 | g_loss: 1.0258\n",
      "Epoch [   38/  100] | d_loss: 1.2737 | g_loss: 0.9372\n",
      "Epoch [   39/  100] | d_loss: 1.2566 | g_loss: 0.9698\n",
      "Epoch [   39/  100] | d_loss: 1.2585 | g_loss: 1.0749\n",
      "Epoch [   39/  100] | d_loss: 1.2997 | g_loss: 0.9067\n",
      "Epoch [   40/  100] | d_loss: 1.3130 | g_loss: 1.0089\n",
      "Epoch [   40/  100] | d_loss: 1.2376 | g_loss: 1.1485\n",
      "Epoch [   40/  100] | d_loss: 1.4001 | g_loss: 1.0481\n",
      "Epoch [   41/  100] | d_loss: 1.3162 | g_loss: 1.0435\n",
      "Epoch [   41/  100] | d_loss: 1.2426 | g_loss: 1.2305\n",
      "Epoch [   41/  100] | d_loss: 1.2180 | g_loss: 1.1454\n",
      "Epoch [   42/  100] | d_loss: 1.1826 | g_loss: 1.0572\n",
      "Epoch [   42/  100] | d_loss: 1.2207 | g_loss: 0.9110\n",
      "Epoch [   42/  100] | d_loss: 1.3857 | g_loss: 0.9295\n",
      "Epoch [   43/  100] | d_loss: 1.2525 | g_loss: 1.0145\n",
      "Epoch [   43/  100] | d_loss: 1.3395 | g_loss: 1.0199\n",
      "Epoch [   43/  100] | d_loss: 1.3273 | g_loss: 1.2625\n",
      "Epoch [   44/  100] | d_loss: 1.2717 | g_loss: 0.9136\n",
      "Epoch [   44/  100] | d_loss: 1.2641 | g_loss: 1.1144\n",
      "Epoch [   44/  100] | d_loss: 1.2981 | g_loss: 0.9993\n",
      "Epoch [   45/  100] | d_loss: 1.3451 | g_loss: 0.8684\n",
      "Epoch [   45/  100] | d_loss: 1.3192 | g_loss: 1.0476\n",
      "Epoch [   45/  100] | d_loss: 1.2299 | g_loss: 1.1732\n",
      "Epoch [   46/  100] | d_loss: 1.3317 | g_loss: 1.1754\n",
      "Epoch [   46/  100] | d_loss: 1.3126 | g_loss: 1.1655\n",
      "Epoch [   46/  100] | d_loss: 1.2502 | g_loss: 0.9860\n",
      "Epoch [   47/  100] | d_loss: 1.2955 | g_loss: 1.0792\n",
      "Epoch [   47/  100] | d_loss: 1.2088 | g_loss: 1.1881\n",
      "Epoch [   47/  100] | d_loss: 1.3141 | g_loss: 0.9920\n",
      "Epoch [   48/  100] | d_loss: 1.3361 | g_loss: 0.9173\n",
      "Epoch [   48/  100] | d_loss: 1.2077 | g_loss: 1.0072\n",
      "Epoch [   48/  100] | d_loss: 1.1849 | g_loss: 1.0858\n",
      "Epoch [   49/  100] | d_loss: 1.2897 | g_loss: 0.9924\n",
      "Epoch [   49/  100] | d_loss: 1.3385 | g_loss: 1.0427\n",
      "Epoch [   49/  100] | d_loss: 1.2609 | g_loss: 0.9576\n",
      "Epoch [   50/  100] | d_loss: 1.3361 | g_loss: 0.9904\n",
      "Epoch [   50/  100] | d_loss: 1.2286 | g_loss: 0.8508\n",
      "Epoch [   50/  100] | d_loss: 1.2740 | g_loss: 1.0258\n",
      "Epoch [   51/  100] | d_loss: 1.2424 | g_loss: 0.9901\n",
      "Epoch [   51/  100] | d_loss: 1.3607 | g_loss: 1.0442\n",
      "Epoch [   51/  100] | d_loss: 1.2975 | g_loss: 0.8600\n",
      "Epoch [   52/  100] | d_loss: 1.3016 | g_loss: 1.0336\n",
      "Epoch [   52/  100] | d_loss: 1.3446 | g_loss: 1.0437\n",
      "Epoch [   52/  100] | d_loss: 1.2886 | g_loss: 0.7906\n",
      "Epoch [   53/  100] | d_loss: 1.2786 | g_loss: 0.9658\n",
      "Epoch [   53/  100] | d_loss: 1.2925 | g_loss: 1.0796\n",
      "Epoch [   53/  100] | d_loss: 1.2753 | g_loss: 1.2924\n",
      "Epoch [   54/  100] | d_loss: 1.2317 | g_loss: 1.3959\n",
      "Epoch [   54/  100] | d_loss: 1.2103 | g_loss: 1.0371\n",
      "Epoch [   54/  100] | d_loss: 1.2618 | g_loss: 1.0272\n",
      "Epoch [   55/  100] | d_loss: 1.3350 | g_loss: 1.0538\n",
      "Epoch [   55/  100] | d_loss: 1.2090 | g_loss: 1.1135\n",
      "Epoch [   55/  100] | d_loss: 1.2013 | g_loss: 1.0251\n",
      "Epoch [   56/  100] | d_loss: 1.2305 | g_loss: 1.1254\n",
      "Epoch [   56/  100] | d_loss: 1.2407 | g_loss: 0.9461\n",
      "Epoch [   56/  100] | d_loss: 1.2502 | g_loss: 1.0776\n",
      "Epoch [   57/  100] | d_loss: 1.2593 | g_loss: 1.1297\n",
      "Epoch [   57/  100] | d_loss: 1.3390 | g_loss: 1.1208\n",
      "Epoch [   57/  100] | d_loss: 1.3026 | g_loss: 0.9290\n",
      "Epoch [   58/  100] | d_loss: 1.2090 | g_loss: 1.0531\n",
      "Epoch [   58/  100] | d_loss: 1.2578 | g_loss: 1.0680\n",
      "Epoch [   58/  100] | d_loss: 1.2523 | g_loss: 0.9119\n",
      "Epoch [   59/  100] | d_loss: 1.2752 | g_loss: 0.8796\n",
      "Epoch [   59/  100] | d_loss: 1.2391 | g_loss: 1.0589\n",
      "Epoch [   59/  100] | d_loss: 1.2508 | g_loss: 1.1378\n",
      "Epoch [   60/  100] | d_loss: 1.3422 | g_loss: 1.2762\n",
      "Epoch [   60/  100] | d_loss: 1.2879 | g_loss: 1.0987\n",
      "Epoch [   60/  100] | d_loss: 1.2612 | g_loss: 1.0321\n",
      "Epoch [   61/  100] | d_loss: 1.2060 | g_loss: 0.9608\n",
      "Epoch [   61/  100] | d_loss: 1.2305 | g_loss: 1.0429\n",
      "Epoch [   61/  100] | d_loss: 1.2808 | g_loss: 1.2532\n",
      "Epoch [   62/  100] | d_loss: 1.2753 | g_loss: 1.0086\n",
      "Epoch [   62/  100] | d_loss: 1.2108 | g_loss: 1.1807\n",
      "Epoch [   62/  100] | d_loss: 1.2829 | g_loss: 1.0914\n",
      "Epoch [   63/  100] | d_loss: 1.2940 | g_loss: 0.9374\n",
      "Epoch [   63/  100] | d_loss: 1.2222 | g_loss: 0.9708\n",
      "Epoch [   63/  100] | d_loss: 1.3059 | g_loss: 1.0978\n",
      "Epoch [   64/  100] | d_loss: 1.3812 | g_loss: 1.3231\n",
      "Epoch [   64/  100] | d_loss: 1.3085 | g_loss: 1.0609\n",
      "Epoch [   64/  100] | d_loss: 1.2968 | g_loss: 1.0360\n",
      "Epoch [   65/  100] | d_loss: 1.2260 | g_loss: 0.9137\n",
      "Epoch [   65/  100] | d_loss: 1.2891 | g_loss: 1.1954\n",
      "Epoch [   65/  100] | d_loss: 1.3685 | g_loss: 1.3206\n",
      "Epoch [   66/  100] | d_loss: 1.2400 | g_loss: 1.2056\n",
      "Epoch [   66/  100] | d_loss: 1.3224 | g_loss: 0.9753\n",
      "Epoch [   66/  100] | d_loss: 1.3133 | g_loss: 1.2511\n",
      "Epoch [   67/  100] | d_loss: 1.3401 | g_loss: 0.9567\n",
      "Epoch [   67/  100] | d_loss: 1.2241 | g_loss: 0.9505\n",
      "Epoch [   67/  100] | d_loss: 1.2370 | g_loss: 0.9429\n",
      "Epoch [   68/  100] | d_loss: 1.2479 | g_loss: 0.8940\n",
      "Epoch [   68/  100] | d_loss: 1.2928 | g_loss: 0.9594\n",
      "Epoch [   68/  100] | d_loss: 1.2564 | g_loss: 1.1190\n",
      "Epoch [   69/  100] | d_loss: 1.2980 | g_loss: 1.2134\n",
      "Epoch [   69/  100] | d_loss: 1.2952 | g_loss: 0.9552\n",
      "Epoch [   69/  100] | d_loss: 1.3027 | g_loss: 1.0993\n",
      "Epoch [   70/  100] | d_loss: 1.2522 | g_loss: 0.9986\n",
      "Epoch [   70/  100] | d_loss: 1.2399 | g_loss: 0.9737\n",
      "Epoch [   70/  100] | d_loss: 1.3039 | g_loss: 1.2462\n",
      "Epoch [   71/  100] | d_loss: 1.2512 | g_loss: 1.0042\n",
      "Epoch [   71/  100] | d_loss: 1.3405 | g_loss: 0.9252\n",
      "Epoch [   71/  100] | d_loss: 1.2043 | g_loss: 1.1161\n",
      "Epoch [   72/  100] | d_loss: 1.2665 | g_loss: 0.9595\n",
      "Epoch [   72/  100] | d_loss: 1.2507 | g_loss: 0.9367\n",
      "Epoch [   72/  100] | d_loss: 1.3141 | g_loss: 0.9775\n",
      "Epoch [   73/  100] | d_loss: 1.3269 | g_loss: 0.9109\n",
      "Epoch [   73/  100] | d_loss: 1.3472 | g_loss: 1.1645\n",
      "Epoch [   73/  100] | d_loss: 1.3089 | g_loss: 0.9314\n",
      "Epoch [   74/  100] | d_loss: 1.2191 | g_loss: 0.9633\n",
      "Epoch [   74/  100] | d_loss: 1.3841 | g_loss: 1.2480\n",
      "Epoch [   74/  100] | d_loss: 1.2073 | g_loss: 1.0628\n",
      "Epoch [   75/  100] | d_loss: 1.1546 | g_loss: 0.9844\n",
      "Epoch [   75/  100] | d_loss: 1.2801 | g_loss: 1.1295\n",
      "Epoch [   75/  100] | d_loss: 1.3529 | g_loss: 0.9039\n",
      "Epoch [   76/  100] | d_loss: 1.2994 | g_loss: 0.9381\n",
      "Epoch [   76/  100] | d_loss: 1.2514 | g_loss: 1.1165\n",
      "Epoch [   76/  100] | d_loss: 1.1633 | g_loss: 0.9610\n",
      "Epoch [   77/  100] | d_loss: 1.1895 | g_loss: 0.9318\n",
      "Epoch [   77/  100] | d_loss: 1.3061 | g_loss: 1.0269\n",
      "Epoch [   77/  100] | d_loss: 1.3159 | g_loss: 1.0200\n",
      "Epoch [   78/  100] | d_loss: 1.2473 | g_loss: 0.9754\n",
      "Epoch [   78/  100] | d_loss: 1.2387 | g_loss: 1.3305\n",
      "Epoch [   78/  100] | d_loss: 1.3404 | g_loss: 0.8677\n",
      "Epoch [   79/  100] | d_loss: 1.2531 | g_loss: 1.3653\n",
      "Epoch [   79/  100] | d_loss: 1.2566 | g_loss: 0.8672\n",
      "Epoch [   79/  100] | d_loss: 1.2866 | g_loss: 0.9818\n",
      "Epoch [   80/  100] | d_loss: 1.2988 | g_loss: 1.0524\n",
      "Epoch [   80/  100] | d_loss: 1.2005 | g_loss: 1.0745\n",
      "Epoch [   80/  100] | d_loss: 1.2513 | g_loss: 1.0888\n",
      "Epoch [   81/  100] | d_loss: 1.2318 | g_loss: 0.9867\n",
      "Epoch [   81/  100] | d_loss: 1.2946 | g_loss: 1.1328\n",
      "Epoch [   81/  100] | d_loss: 1.2180 | g_loss: 1.0808\n",
      "Epoch [   82/  100] | d_loss: 1.1479 | g_loss: 0.9248\n",
      "Epoch [   82/  100] | d_loss: 1.2028 | g_loss: 1.2577\n",
      "Epoch [   82/  100] | d_loss: 1.2427 | g_loss: 1.0091\n",
      "Epoch [   83/  100] | d_loss: 1.2357 | g_loss: 1.0057\n",
      "Epoch [   83/  100] | d_loss: 1.2433 | g_loss: 0.9013\n",
      "Epoch [   83/  100] | d_loss: 1.2787 | g_loss: 1.2089\n",
      "Epoch [   84/  100] | d_loss: 1.2936 | g_loss: 1.3777\n",
      "Epoch [   84/  100] | d_loss: 1.2741 | g_loss: 1.1549\n",
      "Epoch [   84/  100] | d_loss: 1.2253 | g_loss: 1.0508\n",
      "Epoch [   85/  100] | d_loss: 1.3688 | g_loss: 0.9052\n",
      "Epoch [   85/  100] | d_loss: 1.1649 | g_loss: 1.1943\n",
      "Epoch [   85/  100] | d_loss: 1.2267 | g_loss: 1.0846\n",
      "Epoch [   86/  100] | d_loss: 1.2522 | g_loss: 1.0914\n",
      "Epoch [   86/  100] | d_loss: 1.2454 | g_loss: 0.8602\n",
      "Epoch [   86/  100] | d_loss: 1.2949 | g_loss: 1.2534\n",
      "Epoch [   87/  100] | d_loss: 1.2645 | g_loss: 0.9509\n",
      "Epoch [   87/  100] | d_loss: 1.2328 | g_loss: 1.0058\n",
      "Epoch [   87/  100] | d_loss: 1.2534 | g_loss: 1.0127\n",
      "Epoch [   88/  100] | d_loss: 1.2077 | g_loss: 1.1314\n",
      "Epoch [   88/  100] | d_loss: 1.2809 | g_loss: 1.2457\n",
      "Epoch [   88/  100] | d_loss: 1.3540 | g_loss: 1.0214\n",
      "Epoch [   89/  100] | d_loss: 1.2101 | g_loss: 1.5655\n",
      "Epoch [   89/  100] | d_loss: 1.2280 | g_loss: 1.1940\n",
      "Epoch [   89/  100] | d_loss: 1.1950 | g_loss: 0.9745\n",
      "Epoch [   90/  100] | d_loss: 1.2625 | g_loss: 0.9364\n",
      "Epoch [   90/  100] | d_loss: 1.3038 | g_loss: 1.0261\n",
      "Epoch [   90/  100] | d_loss: 1.3131 | g_loss: 1.0250\n",
      "Epoch [   91/  100] | d_loss: 1.2381 | g_loss: 0.9753\n",
      "Epoch [   91/  100] | d_loss: 1.3138 | g_loss: 0.9927\n",
      "Epoch [   91/  100] | d_loss: 1.2644 | g_loss: 1.0535\n",
      "Epoch [   92/  100] | d_loss: 1.2207 | g_loss: 1.3787\n",
      "Epoch [   92/  100] | d_loss: 1.3052 | g_loss: 1.0365\n",
      "Epoch [   92/  100] | d_loss: 1.3438 | g_loss: 0.9275\n",
      "Epoch [   93/  100] | d_loss: 1.3373 | g_loss: 1.0180\n",
      "Epoch [   93/  100] | d_loss: 1.2834 | g_loss: 0.8718\n",
      "Epoch [   93/  100] | d_loss: 1.2623 | g_loss: 1.0765\n",
      "Epoch [   94/  100] | d_loss: 1.3223 | g_loss: 0.9761\n",
      "Epoch [   94/  100] | d_loss: 1.1950 | g_loss: 1.1757\n",
      "Epoch [   94/  100] | d_loss: 1.2359 | g_loss: 1.1889\n",
      "Epoch [   95/  100] | d_loss: 1.2821 | g_loss: 1.0451\n",
      "Epoch [   95/  100] | d_loss: 1.2900 | g_loss: 0.9961\n",
      "Epoch [   95/  100] | d_loss: 1.3267 | g_loss: 0.9892\n",
      "Epoch [   96/  100] | d_loss: 1.1996 | g_loss: 1.3840\n",
      "Epoch [   96/  100] | d_loss: 1.1988 | g_loss: 1.0102\n",
      "Epoch [   96/  100] | d_loss: 1.3220 | g_loss: 0.9708\n",
      "Epoch [   97/  100] | d_loss: 1.2767 | g_loss: 0.9756\n",
      "Epoch [   97/  100] | d_loss: 1.2759 | g_loss: 1.3036\n",
      "Epoch [   97/  100] | d_loss: 1.2289 | g_loss: 1.0645\n",
      "Epoch [   98/  100] | d_loss: 1.2958 | g_loss: 0.9485\n",
      "Epoch [   98/  100] | d_loss: 1.2720 | g_loss: 1.1044\n",
      "Epoch [   98/  100] | d_loss: 1.2972 | g_loss: 0.9348\n",
      "Epoch [   99/  100] | d_loss: 1.2724 | g_loss: 1.0322\n",
      "Epoch [   99/  100] | d_loss: 1.1377 | g_loss: 0.9918\n",
      "Epoch [   99/  100] | d_loss: 1.1925 | g_loss: 0.9051\n",
      "Epoch [  100/  100] | d_loss: 1.2981 | g_loss: 1.0795\n",
      "Epoch [  100/  100] | d_loss: 1.3193 | g_loss: 1.1140\n",
      "Epoch [  100/  100] | d_loss: 1.3510 | g_loss: 1.0621\n"
     ]
    }
   ],
   "source": [
    "# Let's start training\n",
    "import pickle as pkl\n",
    "\n",
    "# training hyperparams\n",
    "num_epochs = 100\n",
    "\n",
    "# keep track of loss and generated, \"fake\" samples\n",
    "samples = []\n",
    "losses = []\n",
    "\n",
    "print_every = 400\n",
    "\n",
    "# Get some fixed data for sampling. These are images that are held\n",
    "# constant throughout training, and allow us to inspect the model's performance\n",
    "sample_size=16\n",
    "fixed_z = np.random.uniform(-1, 1, size=(sample_size, z_size))\n",
    "fixed_z = torch.from_numpy(fixed_z).float()\n",
    "fixed_labels = np.random.randint(0, label_size, sample_size)\n",
    "fixed_labels = torch.from_numpy(fixed_labels).long()\n",
    "\n",
    "# train the network\n",
    "D.train()\n",
    "G.train()\n",
    "for epoch in range(num_epochs):\n",
    "    \n",
    "    for batch_i, (real_images, real_labels) in enumerate(train_loader):\n",
    "        \n",
    "        batch_size = real_images.size(0) # batch_size = 64\n",
    "        \n",
    "        ## Important rescaling step ## \n",
    "        real_images = real_images*2 - 1  # rescale input images from [0,1) to [-1, 1)\n",
    "        \n",
    "        # ============================================\n",
    "        #            TRAIN THE DISCRIMINATOR\n",
    "        # ============================================\n",
    "        \n",
    "        d_optimizer.zero_grad()\n",
    "        \n",
    "        # 1. Train with real images\n",
    "\n",
    "        # Compute the discriminator losses on real images \n",
    "        # smooth the real labels\n",
    "        D_real = D(real_images, real_labels)\n",
    "        d_real_loss = real_loss(D_real, smooth=True)\n",
    "        \n",
    "        # 2. Train with fake images\n",
    "        \n",
    "        # Generate fake images\n",
    "        z = np.random.uniform(-1, 1, size=(batch_size, z_size)) # size = (64, 100)\n",
    "        z = torch.from_numpy(z).float()\n",
    "        fake_labels = np.random.randint(0, label_size, batch_size)\n",
    "        fake_labels = torch.from_numpy(fake_labels).long()\n",
    "        fake_images = G(z, fake_labels)\n",
    "        \n",
    "        # Compute the discriminator losses on fake images        \n",
    "        D_fake = D(fake_images, fake_labels)\n",
    "        d_fake_loss = fake_loss(D_fake)\n",
    "        \n",
    "        # add up loss and perform backprop\n",
    "        d_loss = d_real_loss + d_fake_loss\n",
    "        d_loss.backward()\n",
    "        d_optimizer.step()\n",
    "        \n",
    "        \n",
    "        # =========================================\n",
    "        #            TRAIN THE GENERATOR\n",
    "        # =========================================\n",
    "        g_optimizer.zero_grad()\n",
    "        \n",
    "        # 1. Train with fake images and flipped labels\n",
    "        \n",
    "        # Generate fake images\n",
    "        z = np.random.uniform(-1, 1, size=(batch_size, z_size)) # size = (64, 100)\n",
    "        z = torch.from_numpy(z).float()\n",
    "        fake_labels = np.random.randint(0, label_size, batch_size)\n",
    "        fake_labels = torch.from_numpy(fake_labels).long()\n",
    "        fake_images = G(z, fake_labels)\n",
    "        \n",
    "        # Compute the discriminator losses on fake images \n",
    "        # using flipped labels!\n",
    "        D_fake = D(fake_images, fake_labels)\n",
    "        g_loss = real_loss(D_fake) # use real loss to flip labels\n",
    "        \n",
    "        # perform backprop\n",
    "        g_loss.backward()\n",
    "        g_optimizer.step() # But we only update the generator\n",
    "\n",
    "        # Print some loss stats\n",
    "        if batch_i % print_every == 0:\n",
    "            # print discriminator and generator loss\n",
    "            print('Epoch [{:5d}/{:5d}] | d_loss: {:6.4f} | g_loss: {:6.4f}'.format(\n",
    "                    epoch+1, num_epochs, d_loss.item(), g_loss.item()))\n",
    "\n",
    "    \n",
    "    ## AFTER EACH EPOCH##\n",
    "    # append discriminator loss and generator loss\n",
    "    losses.append((d_loss.item(), g_loss.item()))\n",
    "    \n",
    "    # generate and save sample, fake images\n",
    "    G.eval() # eval mode for generating samples\n",
    "    samples_z = G(fixed_z, fixed_labels)\n",
    "    samples.append(samples_z)\n",
    "    G.train() # back to train mode\n",
    "\n",
    "\n",
    "# Save training generator samples, to evaluate later. \n",
    "with open('train_samples_cgan.pkl', 'wb') as f:\n",
    "    pkl.dump(samples, f)"
   ]
  },
  {
   "cell_type": "markdown",
   "metadata": {},
   "source": [
    "## Save objects"
   ]
  },
  {
   "cell_type": "code",
   "execution_count": 36,
   "metadata": {},
   "outputs": [],
   "source": [
    "# Save the losses\n",
    "np.save('losses_cgan', losses)"
   ]
  },
  {
   "cell_type": "code",
   "execution_count": 37,
   "metadata": {},
   "outputs": [],
   "source": [
    "# Save the discriminator\n",
    "torch.save(D.state_dict(), 'discriminator_cgan.pth')"
   ]
  },
  {
   "cell_type": "code",
   "execution_count": 38,
   "metadata": {},
   "outputs": [],
   "source": [
    "# Save the generator\n",
    "torch.save(G.state_dict(), 'generator_cgan.pth')"
   ]
  },
  {
   "cell_type": "markdown",
   "metadata": {},
   "source": [
    "## Plot Training Loss"
   ]
  },
  {
   "cell_type": "code",
   "execution_count": 39,
   "metadata": {},
   "outputs": [
    {
     "data": {
      "text/plain": [
       "<matplotlib.legend.Legend at 0x231bf0cadd8>"
      ]
     },
     "execution_count": 39,
     "metadata": {},
     "output_type": "execute_result"
    },
    {
     "data": {
      "image/png": "[encoded data removed]",
      "text/plain": [
       "<Figure size 432x288 with 1 Axes>"
      ]
     },
     "metadata": {
      "needs_background": "light"
     },
     "output_type": "display_data"
    }
   ],
   "source": [
    "fig, ax = plt.subplots()\n",
    "losses = np.array(losses)\n",
    "plt.plot(losses.T[0], label='Discriminator')\n",
    "plt.plot(losses.T[1], label='Generator')\n",
    "plt.title(\"Training Losses\")\n",
    "plt.legend()"
   ]
  },
  {
   "cell_type": "markdown",
   "metadata": {},
   "source": [
    "## Check generated samples to evaluate performance\n",
    "\n",
    "One of the main evaluation metrics of GANs is to manually inspect the quality of generated images and hence we will look at samples generated by the generator over time."
   ]
  },
  {
   "cell_type": "code",
   "execution_count": 40,
   "metadata": {},
   "outputs": [],
   "source": [
    "# Load samples from generator, taken while training\n",
    "with open('train_samples_cgan.pkl', 'rb') as f:\n",
    "    samples = pkl.load(f)"
   ]
  },
  {
   "cell_type": "code",
   "execution_count": 41,
   "metadata": {},
   "outputs": [
    {
     "data": {
      "image/png": "[encoded data removed]",
      "text/plain": [
       "<Figure size 504x864 with 60 Axes>"
      ]
     },
     "metadata": {
      "needs_background": "light"
     },
     "output_type": "display_data"
    }
   ],
   "source": [
    "rows = 10 # split epochs into 10, so 100/10 = every 10 epochs\n",
    "cols = 6\n",
    "fig, axes = plt.subplots(figsize=(7,12), nrows=rows, ncols=cols, sharex=True, sharey=True)\n",
    "\n",
    "for sample, ax_row in zip(samples[::int(len(samples)/rows)], axes):\n",
    "    for img, ax in zip(sample[::int(len(sample)/cols)], ax_row):\n",
    "        img = img.detach()\n",
    "        ax.imshow(img.reshape((28,28)), cmap='Greys_r')\n",
    "        ax.xaxis.set_visible(False)\n",
    "        ax.yaxis.set_visible(False)"
   ]
  },
  {
   "cell_type": "markdown",
   "metadata": {},
   "source": [
    "As we can see the generator learns to generate clearer images over time."
   ]
  },
  {
   "cell_type": "markdown",
   "metadata": {},
   "source": [
    "## Generate samples from generator\n",
    "\n",
    "We will generate sample images here with supplied labels. The labels are the real labels that we used during our training. For MNIST, they range from 0-9 for the digits."
   ]
  },
  {
   "cell_type": "code",
   "execution_count": 98,
   "metadata": {},
   "outputs": [
    {
     "data": {
      "text/plain": [
       "Generator(\n",
       "  (embed): Embedding(10, 10)\n",
       "  (fc1): Linear(in_features=110, out_features=32, bias=True)\n",
       "  (fc2): Linear(in_features=32, out_features=64, bias=True)\n",
       "  (fc3): Linear(in_features=64, out_features=128, bias=True)\n",
       "  (fc4): Linear(in_features=128, out_features=784, bias=True)\n",
       "  (dropout): Dropout(p=0.3, inplace=False)\n",
       ")"
      ]
     },
     "execution_count": 98,
     "metadata": {},
     "output_type": "execute_result"
    }
   ],
   "source": [
    "# Load the saved generator model\n",
    "G = Generator(label_size, z_size, g_hidden_size, g_output_size)\n",
    "G.load_state_dict(torch.load('generator_cgan.pth'))\n",
    "G.eval()"
   ]
  },
  {
   "cell_type": "code",
   "execution_count": 99,
   "metadata": {},
   "outputs": [],
   "source": [
    "# Initialize a random vector\n",
    "rand_image = torch.from_numpy(np.random.uniform(-1, 1, size=(1, z_size))).float()"
   ]
  },
  {
   "cell_type": "code",
   "execution_count": 100,
   "metadata": {},
   "outputs": [],
   "source": [
    "# label defines the type of image we want to generate. ranges from 0-9\n",
    "label = torch.tensor([0]).long()"
   ]
  },
  {
   "cell_type": "code",
   "execution_count": 101,
   "metadata": {},
   "outputs": [
    {
     "name": "stderr",
     "output_type": "stream",
     "text": [
      "c:\\python37\\lib\\site-packages\\torch\\nn\\functional.py:1339: UserWarning: nn.functional.tanh is deprecated. Use torch.tanh instead.\n",
      "  warnings.warn(\"nn.functional.tanh is deprecated. Use torch.tanh instead.\")\n"
     ]
    }
   ],
   "source": [
    "rand_g = G(rand_image, label)"
   ]
  },
  {
   "cell_type": "code",
   "execution_count": 102,
   "metadata": {},
   "outputs": [
    {
     "name": "stderr",
     "output_type": "stream",
     "text": [
      "c:\\python37\\lib\\site-packages\\torch\\tensor.py:293: UserWarning: non-inplace resize is deprecated\n",
      "  warnings.warn(\"non-inplace resize is deprecated\")\n"
     ]
    },
    {
     "data": {
      "text/plain": [
       "<matplotlib.image.AxesImage at 0x231c1e54da0>"
      ]
     },
     "execution_count": 102,
     "metadata": {},
     "output_type": "execute_result"
    },
    {
     "data": {
      "image/png": "[encoded data removed]",
      "text/plain": [
       "<Figure size 432x288 with 1 Axes>"
      ]
     },
     "metadata": {
      "needs_background": "light"
     },
     "output_type": "display_data"
    }
   ],
   "source": [
    "# we need to detach the image, so that it's out of the graph\n",
    "rand_g = rand_g.detach()\n",
    "plt.imshow(rand_g.resize(28, 28), cmap='Greys_r')"
   ]
  }
 ],
 "metadata": {
  "kernelspec": {
   "display_name": "Python 3",
   "language": "python",
   "name": "python3"
  },
  "language_info": {
   "codemirror_mode": {
    "name": "ipython",
    "version": 3
   },
   "file_extension": ".py",
   "mimetype": "text/x-python",
   "name": "python",
   "nbconvert_exporter": "python",
   "pygments_lexer": "ipython3",
   "version": "3.7.1"
  }
 },
 "nbformat": 4,
 "nbformat_minor": 4
}
